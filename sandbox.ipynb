{
 "cells": [
  {
   "cell_type": "code",
   "execution_count": 11,
   "id": "f2f0718b",
   "metadata": {},
   "outputs": [],
   "source": [
    "import matplotlib.pyplot as plt\n",
    "import numpy as np"
   ]
  },
  {
   "cell_type": "code",
   "execution_count": 12,
   "id": "65b37f51",
   "metadata": {},
   "outputs": [],
   "source": [
    "from sklearn.neighbors import KNeighborsRegressor\n",
    "from sklearn.tree import DecisionTreeRegressor\n",
    "from sklearn.ensemble import RandomForestRegressor"
   ]
  },
  {
   "cell_type": "code",
   "execution_count": 13,
   "id": "b93de9a1",
   "metadata": {},
   "outputs": [],
   "source": [
    "import yfinance as yf\n",
    "\n",
    "msft = yf.Ticker(\"MSFT\")\n",
    "hist = msft.history(period=\"max\")\n",
    "test = list(hist['High'])"
   ]
  },
  {
   "cell_type": "code",
   "execution_count": 23,
   "id": "618f26d6",
   "metadata": {},
   "outputs": [],
   "source": [
    "def sliding_window(_list, look_back, look_front):\n",
    "    ''' Method divide input data into a sequential training dataset.\n",
    "            \n",
    "            Parameters:\n",
    "                _list (list): Data to be devided into training dataset.\n",
    "                look_back (int): Days to look back.\n",
    "                look_front (int): Days to predict into the future.\n",
    "            Returns:\n",
    "                back ([list]): List containing look back data lists. (X)\n",
    "                front ([list]): List containing look into future data lists. (y)\n",
    "    '''\n",
    "    back = []\n",
    "    front = []\n",
    "    length_list = len(_list)\n",
    "    for i in range(length_list):\n",
    "        if i > length_list - look_back - look_front:\n",
    "            break\n",
    "        back.append(_list[i:i+look_back])\n",
    "        front.append(_list[i+look_back : i+look_back+look_front])\n",
    "    return back, front"
   ]
  },
  {
   "cell_type": "code",
   "execution_count": 24,
   "id": "55d96671",
   "metadata": {},
   "outputs": [],
   "source": [
    "X, y = sliding_window(test, 5, 2)"
   ]
  },
  {
   "cell_type": "code",
   "execution_count": 16,
   "id": "64960f5e",
   "metadata": {},
   "outputs": [
    {
     "data": {
      "text/plain": [
       "KNeighborsRegressor()"
      ]
     },
     "execution_count": 16,
     "metadata": {},
     "output_type": "execute_result"
    }
   ],
   "source": [
    "model = KNeighborsRegressor()\n",
    "#model = DecisionTreeRegressor()\n",
    "#model = RandomForestRegressor()\n",
    "model.fit(X, y)"
   ]
  },
  {
   "cell_type": "code",
   "execution_count": 17,
   "id": "8a7697a7",
   "metadata": {},
   "outputs": [],
   "source": [
    "row = [0.21947749,  0.32948997,  0.81560036,  0.440956  , -0.0606303]"
   ]
  },
  {
   "cell_type": "code",
   "execution_count": 18,
   "id": "56297c09",
   "metadata": {},
   "outputs": [],
   "source": [
    "yhat2 = model.predict([row])"
   ]
  },
  {
   "cell_type": "code",
   "execution_count": 19,
   "id": "51bb43a9",
   "metadata": {},
   "outputs": [
    {
     "data": {
      "text/plain": [
       "array([[0.30020671, 0.30668531]])"
      ]
     },
     "execution_count": 19,
     "metadata": {},
     "output_type": "execute_result"
    }
   ],
   "source": [
    "yhat2"
   ]
  }
 ],
 "metadata": {
  "kernelspec": {
   "display_name": "Python 3 (ipykernel)",
   "language": "python",
   "name": "python3"
  },
  "language_info": {
   "codemirror_mode": {
    "name": "ipython",
    "version": 3
   },
   "file_extension": ".py",
   "mimetype": "text/x-python",
   "name": "python",
   "nbconvert_exporter": "python",
   "pygments_lexer": "ipython3",
   "version": "3.8.12"
  }
 },
 "nbformat": 4,
 "nbformat_minor": 5
}
