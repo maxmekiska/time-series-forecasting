{
 "cells": [
  {
   "cell_type": "code",
   "execution_count": null,
   "id": "d8af2bc7",
   "metadata": {},
   "outputs": [],
   "source": [
    "%run src/regressor.py"
   ]
  },
  {
   "cell_type": "code",
   "execution_count": null,
   "id": "af7e4e9a",
   "metadata": {},
   "outputs": [],
   "source": [
    "import yfinance as yf\n",
    "data = yf.download(\"SPY AAPL\", start=\"2017-01-01\", end=\"2018-03-30\")"
   ]
  },
  {
   "cell_type": "code",
   "execution_count": null,
   "id": "54db4acd",
   "metadata": {},
   "outputs": [],
   "source": [
    "data = list(data['Adj Close']['AAPL'])"
   ]
  },
  {
   "cell_type": "code",
   "execution_count": null,
   "id": "3b860cd3",
   "metadata": {},
   "outputs": [],
   "source": [
    "row = [0.21947749,  0.32948997,  0.81560036,  0.440956  , -0.0606303]"
   ]
  },
  {
   "cell_type": "code",
   "execution_count": null,
   "id": "03288b1b",
   "metadata": {},
   "outputs": [],
   "source": [
    "data2 = list(range(0, 100, 3))"
   ]
  },
  {
   "cell_type": "code",
   "execution_count": null,
   "id": "4786828d",
   "metadata": {},
   "outputs": [],
   "source": [
    "row = [23, 26, 29, 32, 35]"
   ]
  },
  {
   "cell_type": "code",
   "execution_count": null,
   "id": "5ee10cf4",
   "metadata": {},
   "outputs": [],
   "source": [
    "test = Regressor(data2, 5, 2, True)"
   ]
  },
  {
   "cell_type": "code",
   "execution_count": null,
   "id": "b5e5c70c",
   "metadata": {},
   "outputs": [],
   "source": [
    "test.optimize_ind('Linear Gamma Regressor')"
   ]
  },
  {
   "cell_type": "code",
   "execution_count": null,
   "id": "3efafce2",
   "metadata": {},
   "outputs": [],
   "source": [
    "test.optimize_ind('Linear Tweedie Regressor')"
   ]
  },
  {
   "cell_type": "code",
   "execution_count": null,
   "id": "8db6bc40",
   "metadata": {},
   "outputs": [],
   "source": [
    "test.optimize_ind('Linear Poisson Regressor')"
   ]
  },
  {
   "cell_type": "code",
   "execution_count": null,
   "id": "45e98aef",
   "metadata": {},
   "outputs": [],
   "source": [
    "test.optimize_ind('SV Regressor')"
   ]
  },
  {
   "cell_type": "code",
   "execution_count": null,
   "id": "83556ac7",
   "metadata": {},
   "outputs": [],
   "source": [
    "test.optimize_ind('Bagging Regressor')"
   ]
  },
  {
   "cell_type": "code",
   "execution_count": null,
   "id": "05ac0fac",
   "metadata": {},
   "outputs": [],
   "source": [
    "test.optimize_ind('K-Neighbors Regressor')"
   ]
  },
  {
   "cell_type": "code",
   "execution_count": null,
   "id": "4a857bed",
   "metadata": {},
   "outputs": [],
   "source": [
    "test.optimize_ind('Gaussian Process Regressor')"
   ]
  },
  {
   "cell_type": "code",
   "execution_count": null,
   "id": "9e3c7b3b",
   "metadata": {},
   "outputs": [],
   "source": [
    "test.optimize_ind('LinearSVR Regressor')"
   ]
  },
  {
   "cell_type": "code",
   "execution_count": null,
   "id": "ca2913d2",
   "metadata": {},
   "outputs": [],
   "source": [
    "test.optimize_ind('Random Forest Regressor')"
   ]
  },
  {
   "cell_type": "code",
   "execution_count": null,
   "id": "1a5c7944",
   "metadata": {},
   "outputs": [],
   "source": [
    "test.optimize_ind('Bayesian Ridge Regressor')"
   ]
  },
  {
   "cell_type": "code",
   "execution_count": null,
   "id": "a1a0e052",
   "metadata": {},
   "outputs": [],
   "source": [
    "test.optimize_ind('DecisionTree Regressor')"
   ]
  },
  {
   "cell_type": "code",
   "execution_count": null,
   "id": "c97e7b3f",
   "metadata": {},
   "outputs": [],
   "source": [
    "test.optimize_ind('Ada Boost Regressor')"
   ]
  },
  {
   "cell_type": "code",
   "execution_count": null,
   "id": "8520a31e",
   "metadata": {
    "scrolled": true
   },
   "outputs": [],
   "source": [
    "test.optimizer('random')"
   ]
  },
  {
   "cell_type": "code",
   "execution_count": null,
   "id": "143aeb14",
   "metadata": {},
   "outputs": [],
   "source": [
    "test.performance('MSE')"
   ]
  },
  {
   "cell_type": "code",
   "execution_count": null,
   "id": "bbd8bc0c",
   "metadata": {},
   "outputs": [],
   "source": [
    "test.performance('MSE', True)"
   ]
  },
  {
   "cell_type": "code",
   "execution_count": null,
   "id": "67d8db1b",
   "metadata": {},
   "outputs": [],
   "source": [
    "test1 = Regressor(data, 5, 2, True)"
   ]
  },
  {
   "cell_type": "code",
   "execution_count": null,
   "id": "68f93542",
   "metadata": {},
   "outputs": [],
   "source": [
    "test1.optimizer()"
   ]
  },
  {
   "cell_type": "code",
   "execution_count": null,
   "id": "619d67e8",
   "metadata": {},
   "outputs": [],
   "source": [
    "test1.performance('MSE')"
   ]
  },
  {
   "cell_type": "code",
   "execution_count": null,
   "id": "f516c5df",
   "metadata": {},
   "outputs": [],
   "source": [
    "test1.performance('MSE', optimized = True)"
   ]
  },
  {
   "cell_type": "code",
   "execution_count": null,
   "id": "d823d52c",
   "metadata": {},
   "outputs": [],
   "source": [
    "all_0 = test.forecast_all(row)"
   ]
  },
  {
   "cell_type": "code",
   "execution_count": null,
   "id": "5bb13250",
   "metadata": {},
   "outputs": [],
   "source": [
    "all_0"
   ]
  },
  {
   "cell_type": "code",
   "execution_count": null,
   "id": "a6aefd51",
   "metadata": {},
   "outputs": [],
   "source": [
    "all_0_optimized = test.forecast_all(row, optimized = True)"
   ]
  },
  {
   "cell_type": "code",
   "execution_count": null,
   "id": "ab4fef2b",
   "metadata": {},
   "outputs": [],
   "source": [
    "all_0_optimized"
   ]
  },
  {
   "cell_type": "code",
   "execution_count": null,
   "id": "47cfc3a3",
   "metadata": {},
   "outputs": [],
   "source": [
    "all_1 = test1.forecast_all(row)"
   ]
  },
  {
   "cell_type": "code",
   "execution_count": null,
   "id": "3b5f7e88",
   "metadata": {},
   "outputs": [],
   "source": [
    "all_1"
   ]
  },
  {
   "cell_type": "code",
   "execution_count": null,
   "id": "1eda5df0",
   "metadata": {},
   "outputs": [],
   "source": [
    "all_1_optimized = test1.forecast_all(row, optimized = True)"
   ]
  },
  {
   "cell_type": "code",
   "execution_count": null,
   "id": "b5d47303",
   "metadata": {},
   "outputs": [],
   "source": [
    "all_1_optimized"
   ]
  },
  {
   "cell_type": "code",
   "execution_count": null,
   "id": "b2aeda8f",
   "metadata": {},
   "outputs": [],
   "source": [
    "test.forecast(row, 'K-Neighbors Regressor', optimized = True)"
   ]
  },
  {
   "cell_type": "code",
   "execution_count": null,
   "id": "79412d0f",
   "metadata": {},
   "outputs": [],
   "source": [
    "test.forecast(row, 'Bayesian Ridge Regressor', optimized = True)"
   ]
  },
  {
   "cell_type": "code",
   "execution_count": null,
   "id": "1bc6ce74",
   "metadata": {},
   "outputs": [],
   "source": [
    "test1.forecast(row, 'K-Neighbors Regressor', optimized = True)"
   ]
  },
  {
   "cell_type": "code",
   "execution_count": null,
   "id": "b844ed76",
   "metadata": {},
   "outputs": [],
   "source": [
    "test.forecast(row, 'DecisionTree Regressor', optimized = True)"
   ]
  },
  {
   "cell_type": "code",
   "execution_count": null,
   "id": "47c12bf8",
   "metadata": {},
   "outputs": [],
   "source": [
    "test.forecast(row, 'Random Forest Regressor', optimized = True)"
   ]
  },
  {
   "cell_type": "code",
   "execution_count": null,
   "id": "2de3103b",
   "metadata": {},
   "outputs": [],
   "source": [
    "test1.forecast(row, 'DecisionTree Regressor', optimized = True)"
   ]
  },
  {
   "cell_type": "code",
   "execution_count": null,
   "id": "9c1a1d19",
   "metadata": {},
   "outputs": [],
   "source": [
    "test.forecast(row, 'Ada Boost Regressor', optimized = True)"
   ]
  },
  {
   "cell_type": "code",
   "execution_count": null,
   "id": "9f80e982",
   "metadata": {},
   "outputs": [],
   "source": [
    "test.forecast(row, 'Gaussian Process Regressor', optimized = True)"
   ]
  },
  {
   "cell_type": "code",
   "execution_count": null,
   "id": "90ca775f",
   "metadata": {},
   "outputs": [],
   "source": [
    "test.forecast(row, 'SV Regressor', optimized = True)"
   ]
  },
  {
   "cell_type": "code",
   "execution_count": null,
   "id": "8323e3b8",
   "metadata": {},
   "outputs": [],
   "source": [
    "test.forecast(row, 'Linear Poisson Regressor', optimized = True)"
   ]
  },
  {
   "cell_type": "code",
   "execution_count": null,
   "id": "c2ed09fa",
   "metadata": {},
   "outputs": [],
   "source": [
    "test.forecast(row, 'Linear Tweedie Regressor', optimized = True)"
   ]
  },
  {
   "cell_type": "code",
   "execution_count": null,
   "id": "2954a6b2",
   "metadata": {},
   "outputs": [],
   "source": [
    "test.forecast(row, 'Linear Gamma Regressor', optimized = True)"
   ]
  },
  {
   "cell_type": "code",
   "execution_count": null,
   "id": "192313e8",
   "metadata": {},
   "outputs": [],
   "source": [
    "test.forecast(row, 'Linear Poisson Regressor')"
   ]
  },
  {
   "cell_type": "code",
   "execution_count": null,
   "id": "b28531cf",
   "metadata": {},
   "outputs": [],
   "source": [
    "test.forecast(row, 'Linear Tweedie Regressor')"
   ]
  },
  {
   "cell_type": "code",
   "execution_count": null,
   "id": "a3843ef3",
   "metadata": {},
   "outputs": [],
   "source": [
    "test.forecast(row, 'Linear Gamma Regressor')"
   ]
  },
  {
   "cell_type": "code",
   "execution_count": null,
   "id": "9b0fcd0d",
   "metadata": {},
   "outputs": [],
   "source": [
    "test.forecast(row, 'Random Forest Regressor')"
   ]
  },
  {
   "cell_type": "code",
   "execution_count": null,
   "id": "a153b51c",
   "metadata": {},
   "outputs": [],
   "source": [
    "test.forecast(row, 'LinearSVR Regressor')"
   ]
  },
  {
   "cell_type": "code",
   "execution_count": null,
   "id": "2dfd17ee",
   "metadata": {},
   "outputs": [],
   "source": [
    "test.forecast(row, 'Bayesian Ridge Regressor')"
   ]
  },
  {
   "cell_type": "code",
   "execution_count": null,
   "id": "041dd74e",
   "metadata": {},
   "outputs": [],
   "source": [
    "test.forecast(row, 'Ada Boost Regressor')"
   ]
  },
  {
   "cell_type": "code",
   "execution_count": null,
   "id": "42ecaedc",
   "metadata": {},
   "outputs": [],
   "source": [
    "test.forecast(row, 'Gaussian Process Regressor')"
   ]
  },
  {
   "cell_type": "code",
   "execution_count": null,
   "id": "f3df63d6",
   "metadata": {},
   "outputs": [],
   "source": [
    "test.forecast(row, 'Bagging Regressor')"
   ]
  },
  {
   "cell_type": "code",
   "execution_count": null,
   "id": "19a47b4e",
   "metadata": {},
   "outputs": [],
   "source": [
    "test.forecast(row, 'SV Regressor')"
   ]
  }
 ],
 "metadata": {
  "kernelspec": {
   "display_name": "Python 3 (ipykernel)",
   "language": "python",
   "name": "python3"
  },
  "language_info": {
   "codemirror_mode": {
    "name": "ipython",
    "version": 3
   },
   "file_extension": ".py",
   "mimetype": "text/x-python",
   "name": "python",
   "nbconvert_exporter": "python",
   "pygments_lexer": "ipython3",
   "version": "3.8.12"
  }
 },
 "nbformat": 4,
 "nbformat_minor": 5
}
