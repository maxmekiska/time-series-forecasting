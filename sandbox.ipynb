{
 "cells": [
  {
   "cell_type": "code",
   "execution_count": 1,
   "id": "f2f0718b",
   "metadata": {},
   "outputs": [],
   "source": [
    "#import matplotlib.pyplot as plt\n",
    "#import numpy as np\n",
    "%run script/regressor.py"
   ]
  },
  {
   "cell_type": "code",
   "execution_count": 2,
   "id": "5cb2043a",
   "metadata": {},
   "outputs": [],
   "source": [
    "import yfinance as yf\n",
    "\n",
    "msft = yf.Ticker(\"MSFT\")\n",
    "hist = msft.history(period=\"max\")\n",
    "test1 = list(hist['High'])"
   ]
  },
  {
   "cell_type": "code",
   "execution_count": 3,
   "id": "8a7697a7",
   "metadata": {},
   "outputs": [],
   "source": [
    "row = [0.21947749,  0.32948997,  0.81560036,  0.440956  , -0.0606303]"
   ]
  },
  {
   "cell_type": "code",
   "execution_count": 4,
   "id": "2564ec6a",
   "metadata": {},
   "outputs": [],
   "source": [
    "test = Regressor(test1, 5, 2)"
   ]
  },
  {
   "cell_type": "code",
   "execution_count": 5,
   "id": "c4ae788c",
   "metadata": {},
   "outputs": [],
   "source": [
    "first, second, third = test.forecast(row)"
   ]
  },
  {
   "cell_type": "code",
   "execution_count": 6,
   "id": "47ae7a3b",
   "metadata": {},
   "outputs": [
    {
     "data": {
      "text/plain": [
       "array([[0.30020667, 0.30668528]])"
      ]
     },
     "execution_count": 6,
     "metadata": {},
     "output_type": "execute_result"
    }
   ],
   "source": [
    "first"
   ]
  },
  {
   "cell_type": "code",
   "execution_count": 7,
   "id": "5df74c44",
   "metadata": {},
   "outputs": [
    {
     "data": {
      "text/plain": [
       "array([[0.09498154, 0.09607952]])"
      ]
     },
     "execution_count": 7,
     "metadata": {},
     "output_type": "execute_result"
    }
   ],
   "source": [
    "second"
   ]
  },
  {
   "cell_type": "code",
   "execution_count": 8,
   "id": "865a1e70",
   "metadata": {},
   "outputs": [
    {
     "data": {
      "text/plain": [
       "array([[0.17425502, 0.17961072]])"
      ]
     },
     "execution_count": 8,
     "metadata": {},
     "output_type": "execute_result"
    }
   ],
   "source": [
    "third"
   ]
  }
 ],
 "metadata": {
  "kernelspec": {
   "display_name": "Python 3 (ipykernel)",
   "language": "python",
   "name": "python3"
  },
  "language_info": {
   "codemirror_mode": {
    "name": "ipython",
    "version": 3
   },
   "file_extension": ".py",
   "mimetype": "text/x-python",
   "name": "python",
   "nbconvert_exporter": "python",
   "pygments_lexer": "ipython3",
   "version": "3.8.12"
  }
 },
 "nbformat": 4,
 "nbformat_minor": 5
}
