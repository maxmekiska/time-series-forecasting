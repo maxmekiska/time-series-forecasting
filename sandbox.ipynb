{
 "cells": [
  {
   "cell_type": "code",
   "execution_count": null,
   "id": "f2f0718b",
   "metadata": {},
   "outputs": [],
   "source": [
    "%run script/regressor.py"
   ]
  },
  {
   "cell_type": "code",
   "execution_count": null,
   "id": "5cb2043a",
   "metadata": {},
   "outputs": [],
   "source": [
    "import yfinance as yf\n",
    "\n",
    "msft = yf.Ticker(\"MSFT\")\n",
    "hist = msft.history(period=\"max\")\n",
    "test1 = list(hist['High'])"
   ]
  },
  {
   "cell_type": "code",
   "execution_count": null,
   "id": "7d3f5006",
   "metadata": {},
   "outputs": [],
   "source": [
    "import yfinance as yf\n",
    "data = yf.download(\"SPY AAPL\", start=\"2017-01-01\", end=\"2018-01-30\")"
   ]
  },
  {
   "cell_type": "code",
   "execution_count": null,
   "id": "0596eb20",
   "metadata": {},
   "outputs": [],
   "source": [
    "data = list(data['Adj Close']['AAPL'])"
   ]
  },
  {
   "cell_type": "code",
   "execution_count": null,
   "id": "8a7697a7",
   "metadata": {},
   "outputs": [],
   "source": [
    "row = [0.21947749,  0.32948997,  0.81560036,  0.440956  , -0.0606303]"
   ]
  },
  {
   "cell_type": "code",
   "execution_count": null,
   "id": "2564ec6a",
   "metadata": {},
   "outputs": [],
   "source": [
    "test = Regressor(data, 5, 2, False)"
   ]
  },
  {
   "cell_type": "code",
   "execution_count": null,
   "id": "f3aa8d42",
   "metadata": {},
   "outputs": [],
   "source": [
    "test.performance('MSE')"
   ]
  },
  {
   "cell_type": "code",
   "execution_count": null,
   "id": "d8a06e0b",
   "metadata": {},
   "outputs": [],
   "source": [
    "test1 = Regressor(data, 5, 2, True)"
   ]
  },
  {
   "cell_type": "code",
   "execution_count": null,
   "id": "39672483",
   "metadata": {},
   "outputs": [],
   "source": [
    "test1.performance('MSE')"
   ]
  },
  {
   "cell_type": "code",
   "execution_count": null,
   "id": "c4ae788c",
   "metadata": {},
   "outputs": [],
   "source": [
    "first, second, third, fourth = test.forecast(row)"
   ]
  },
  {
   "cell_type": "code",
   "execution_count": null,
   "id": "47ae7a3b",
   "metadata": {},
   "outputs": [],
   "source": [
    "first"
   ]
  },
  {
   "cell_type": "code",
   "execution_count": null,
   "id": "5df74c44",
   "metadata": {},
   "outputs": [],
   "source": [
    "second"
   ]
  },
  {
   "cell_type": "code",
   "execution_count": null,
   "id": "865a1e70",
   "metadata": {},
   "outputs": [],
   "source": [
    "third"
   ]
  },
  {
   "cell_type": "code",
   "execution_count": null,
   "id": "c8077aee",
   "metadata": {},
   "outputs": [],
   "source": [
    "fourth"
   ]
  },
  {
   "cell_type": "code",
   "execution_count": null,
   "id": "5f87d199",
   "metadata": {},
   "outputs": [],
   "source": [
    "fith, six, seven, eight = test1.forecast(row)"
   ]
  },
  {
   "cell_type": "code",
   "execution_count": null,
   "id": "74cf9256",
   "metadata": {},
   "outputs": [],
   "source": [
    "fith"
   ]
  },
  {
   "cell_type": "code",
   "execution_count": null,
   "id": "88d0b198",
   "metadata": {},
   "outputs": [],
   "source": [
    "six"
   ]
  },
  {
   "cell_type": "code",
   "execution_count": null,
   "id": "367b2092",
   "metadata": {},
   "outputs": [],
   "source": [
    "seven"
   ]
  },
  {
   "cell_type": "code",
   "execution_count": null,
   "id": "182bef28",
   "metadata": {},
   "outputs": [],
   "source": [
    "eight"
   ]
  }
 ],
 "metadata": {
  "kernelspec": {
   "display_name": "Python 3 (ipykernel)",
   "language": "python",
   "name": "python3"
  },
  "language_info": {
   "codemirror_mode": {
    "name": "ipython",
    "version": 3
   },
   "file_extension": ".py",
   "mimetype": "text/x-python",
   "name": "python",
   "nbconvert_exporter": "python",
   "pygments_lexer": "ipython3",
   "version": "3.8.12"
  }
 },
 "nbformat": 4,
 "nbformat_minor": 5
}
