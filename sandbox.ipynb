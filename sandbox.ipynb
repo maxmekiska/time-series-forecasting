{
 "cells": [
  {
   "cell_type": "code",
   "execution_count": null,
   "id": "a94b2dd5",
   "metadata": {},
   "outputs": [],
   "source": [
    "%run script/regressor.py"
   ]
  },
  {
   "cell_type": "code",
   "execution_count": null,
   "id": "85d7cdf5",
   "metadata": {},
   "outputs": [],
   "source": [
    "import warnings\n",
    "warnings.filterwarnings('ignore')"
   ]
  },
  {
   "cell_type": "code",
   "execution_count": null,
   "id": "056ccfb8",
   "metadata": {},
   "outputs": [],
   "source": [
    "import yfinance as yf\n",
    "data = yf.download(\"SPY AAPL\", start=\"2017-01-01\", end=\"2018-03-30\")"
   ]
  },
  {
   "cell_type": "code",
   "execution_count": null,
   "id": "de039313",
   "metadata": {},
   "outputs": [],
   "source": [
    "data = list(data['Adj Close']['AAPL'])"
   ]
  },
  {
   "cell_type": "code",
   "execution_count": null,
   "id": "54537f9d",
   "metadata": {},
   "outputs": [],
   "source": [
    "row = [0.21947749,  0.32948997,  0.81560036,  0.440956  , -0.0606303]"
   ]
  },
  {
   "cell_type": "code",
   "execution_count": null,
   "id": "94f8a082",
   "metadata": {},
   "outputs": [],
   "source": [
    "test = Regressor(data, 5, 2, True)"
   ]
  },
  {
   "cell_type": "code",
   "execution_count": null,
   "id": "9d27b5dc",
   "metadata": {},
   "outputs": [],
   "source": [
    "test.optimize_ind('Linear Gamma Regressor')"
   ]
  },
  {
   "cell_type": "code",
   "execution_count": null,
   "id": "108d619e",
   "metadata": {},
   "outputs": [],
   "source": [
    "test.optimize_ind('Linear Tweedie Regressor')"
   ]
  },
  {
   "cell_type": "code",
   "execution_count": null,
   "id": "c4917866",
   "metadata": {},
   "outputs": [],
   "source": [
    "test.optimize_ind('Linear Poisson Regressor')"
   ]
  },
  {
   "cell_type": "code",
   "execution_count": null,
   "id": "314af31a",
   "metadata": {},
   "outputs": [],
   "source": [
    "test.optimize_ind('SV Regressor')"
   ]
  },
  {
   "cell_type": "code",
   "execution_count": null,
   "id": "0f7f3916",
   "metadata": {},
   "outputs": [],
   "source": [
    "test.optimize_ind('Bagging Regressor')"
   ]
  },
  {
   "cell_type": "code",
   "execution_count": null,
   "id": "ffcba517",
   "metadata": {},
   "outputs": [],
   "source": [
    "test.optimize_ind('K-Neighbors Regressor')"
   ]
  },
  {
   "cell_type": "code",
   "execution_count": null,
   "id": "296f49f0",
   "metadata": {},
   "outputs": [],
   "source": [
    "test.optimize_ind('Gaussian Process Regressor')"
   ]
  },
  {
   "cell_type": "code",
   "execution_count": null,
   "id": "f73c870c",
   "metadata": {},
   "outputs": [],
   "source": [
    "test.optimize_ind('LinearSVR Regressor')"
   ]
  },
  {
   "cell_type": "code",
   "execution_count": null,
   "id": "c3f240f1",
   "metadata": {},
   "outputs": [],
   "source": [
    "test.optimize_ind('Random Forest Regressor')"
   ]
  },
  {
   "cell_type": "code",
   "execution_count": null,
   "id": "fbc9cf7b",
   "metadata": {},
   "outputs": [],
   "source": [
    "test.optimize_ind('Bayesian Ridge Regressor')"
   ]
  },
  {
   "cell_type": "code",
   "execution_count": null,
   "id": "5f26a532",
   "metadata": {},
   "outputs": [],
   "source": [
    "test.optimize_ind('DecisionTree Regressor')"
   ]
  },
  {
   "cell_type": "code",
   "execution_count": null,
   "id": "a93c9615",
   "metadata": {},
   "outputs": [],
   "source": [
    "test.optimize_ind('Ada Boost Regressor')"
   ]
  },
  {
   "cell_type": "code",
   "execution_count": null,
   "id": "825a0c96",
   "metadata": {
    "scrolled": true
   },
   "outputs": [],
   "source": [
    "test.optimizer()"
   ]
  },
  {
   "cell_type": "code",
   "execution_count": null,
   "id": "fb21e429",
   "metadata": {},
   "outputs": [],
   "source": [
    "test.performance('MSE')"
   ]
  },
  {
   "cell_type": "code",
   "execution_count": null,
   "id": "2be6a223",
   "metadata": {},
   "outputs": [],
   "source": [
    "test.performance('MSE', True)"
   ]
  },
  {
   "cell_type": "code",
   "execution_count": null,
   "id": "6f92e3df",
   "metadata": {},
   "outputs": [],
   "source": [
    "test1 = Regressor(data, 5, 2, True)"
   ]
  },
  {
   "cell_type": "code",
   "execution_count": null,
   "id": "7842e854",
   "metadata": {},
   "outputs": [],
   "source": [
    "test1.optimizer()"
   ]
  },
  {
   "cell_type": "code",
   "execution_count": null,
   "id": "b0389ad8",
   "metadata": {},
   "outputs": [],
   "source": [
    "test1.performance('MSE')"
   ]
  },
  {
   "cell_type": "code",
   "execution_count": null,
   "id": "0b8225d6",
   "metadata": {},
   "outputs": [],
   "source": [
    "test1.performance('MSE', optimized = True)"
   ]
  },
  {
   "cell_type": "code",
   "execution_count": null,
   "id": "044d140a",
   "metadata": {},
   "outputs": [],
   "source": [
    "all_0 = test.forecast_all(row)"
   ]
  },
  {
   "cell_type": "code",
   "execution_count": null,
   "id": "77bade53",
   "metadata": {},
   "outputs": [],
   "source": [
    "all_0"
   ]
  },
  {
   "cell_type": "code",
   "execution_count": null,
   "id": "624277ca",
   "metadata": {},
   "outputs": [],
   "source": [
    "all_0_optimized = test.forecast_all(row, optimized = True)"
   ]
  },
  {
   "cell_type": "code",
   "execution_count": null,
   "id": "1d1f9204",
   "metadata": {},
   "outputs": [],
   "source": [
    "all_0_optimized"
   ]
  },
  {
   "cell_type": "code",
   "execution_count": null,
   "id": "e8b77350",
   "metadata": {},
   "outputs": [],
   "source": [
    "all_1 = test1.forecast_all(row)"
   ]
  },
  {
   "cell_type": "code",
   "execution_count": null,
   "id": "6b3659cf",
   "metadata": {},
   "outputs": [],
   "source": [
    "all_1"
   ]
  },
  {
   "cell_type": "code",
   "execution_count": null,
   "id": "5a252574",
   "metadata": {},
   "outputs": [],
   "source": [
    "all_1_optimized = test1.forecast_all(row, optimized = True)"
   ]
  },
  {
   "cell_type": "code",
   "execution_count": null,
   "id": "f392a602",
   "metadata": {},
   "outputs": [],
   "source": [
    "all_1_optimized"
   ]
  },
  {
   "cell_type": "code",
   "execution_count": null,
   "id": "6cf22370",
   "metadata": {},
   "outputs": [],
   "source": [
    "test.forecast(row, 'K-Neighbors Regressor', optimized = True)"
   ]
  },
  {
   "cell_type": "code",
   "execution_count": null,
   "id": "88b8acbd",
   "metadata": {},
   "outputs": [],
   "source": [
    "test.forecast(row, 'Bagging Regressor', optimized = True)"
   ]
  },
  {
   "cell_type": "code",
   "execution_count": null,
   "id": "017f13e2",
   "metadata": {},
   "outputs": [],
   "source": [
    "test1.forecast(row, 'K-Neighbors Regressor', optimized = True)"
   ]
  },
  {
   "cell_type": "code",
   "execution_count": null,
   "id": "8beec0e9",
   "metadata": {},
   "outputs": [],
   "source": [
    "test.forecast(row, 'DecisionTree Regressor', optimized = True)"
   ]
  },
  {
   "cell_type": "code",
   "execution_count": null,
   "id": "1335f1d6",
   "metadata": {},
   "outputs": [],
   "source": [
    "test.forecast(row, 'Random Forest Regressor', optimized = True)"
   ]
  },
  {
   "cell_type": "code",
   "execution_count": null,
   "id": "a6dce000",
   "metadata": {},
   "outputs": [],
   "source": [
    "test1.forecast(row, 'DecisionTree Regressor', optimized = True)"
   ]
  },
  {
   "cell_type": "code",
   "execution_count": null,
   "id": "eae0584c",
   "metadata": {},
   "outputs": [],
   "source": [
    "test.forecast(row, 'Ada Boost Regressor', optimized = True)"
   ]
  },
  {
   "cell_type": "code",
   "execution_count": null,
   "id": "be055364",
   "metadata": {},
   "outputs": [],
   "source": [
    "test.forecast(row, 'Gaussian Process Regressor', optimized = True)"
   ]
  },
  {
   "cell_type": "code",
   "execution_count": null,
   "id": "016aac27",
   "metadata": {},
   "outputs": [],
   "source": [
    "test.forecast(row, 'SV Regressor', optimized = True)"
   ]
  },
  {
   "cell_type": "code",
   "execution_count": null,
   "id": "5baf93df",
   "metadata": {},
   "outputs": [],
   "source": [
    "test.forecast(row, 'Linear Poisson Regressor', optimized = True)"
   ]
  },
  {
   "cell_type": "code",
   "execution_count": null,
   "id": "7bfb5e14",
   "metadata": {},
   "outputs": [],
   "source": [
    "test.forecast(row, 'Linear Tweedie Regressor', optimized = True)"
   ]
  },
  {
   "cell_type": "code",
   "execution_count": null,
   "id": "a157fd3a",
   "metadata": {},
   "outputs": [],
   "source": [
    "test.forecast(row, 'Linear Gamma Regressor', optimized = True)"
   ]
  },
  {
   "cell_type": "code",
   "execution_count": null,
   "id": "4b19c538",
   "metadata": {},
   "outputs": [],
   "source": [
    "test.forecast(row, 'Linear Poisson Regressor')"
   ]
  },
  {
   "cell_type": "code",
   "execution_count": null,
   "id": "c968fcff",
   "metadata": {},
   "outputs": [],
   "source": [
    "test.forecast(row, 'Linear Tweedie Regressor')"
   ]
  },
  {
   "cell_type": "code",
   "execution_count": null,
   "id": "457324d6",
   "metadata": {},
   "outputs": [],
   "source": [
    "test.forecast(row, 'Linear Gamma Regressor')"
   ]
  },
  {
   "cell_type": "code",
   "execution_count": null,
   "id": "161b1eaa",
   "metadata": {},
   "outputs": [],
   "source": [
    "test.forecast(row, 'Random Forest Regressor')"
   ]
  },
  {
   "cell_type": "code",
   "execution_count": null,
   "id": "853a5ac8",
   "metadata": {},
   "outputs": [],
   "source": [
    "test.forecast(row, 'LinearSVR Regressor')"
   ]
  },
  {
   "cell_type": "code",
   "execution_count": null,
   "id": "12bd36ec",
   "metadata": {},
   "outputs": [],
   "source": [
    "test.forecast(row, 'Bayesian Ridge Regressor')"
   ]
  },
  {
   "cell_type": "code",
   "execution_count": null,
   "id": "84ef8e14",
   "metadata": {},
   "outputs": [],
   "source": [
    "test.forecast(row, 'Ada Boost Regressor')"
   ]
  },
  {
   "cell_type": "code",
   "execution_count": null,
   "id": "6d3ef494",
   "metadata": {},
   "outputs": [],
   "source": [
    "test.forecast(row, 'Gaussian Process Regressor')"
   ]
  },
  {
   "cell_type": "code",
   "execution_count": null,
   "id": "3a4c08b5",
   "metadata": {},
   "outputs": [],
   "source": [
    "test.forecast(row, 'Bagging Regressor')"
   ]
  },
  {
   "cell_type": "code",
   "execution_count": null,
   "id": "4a0ec21c",
   "metadata": {},
   "outputs": [],
   "source": [
    "test.forecast(row, 'SV Regressor')"
   ]
  }
 ],
 "metadata": {
  "kernelspec": {
   "display_name": "Python 3 (ipykernel)",
   "language": "python",
   "name": "python3"
  },
  "language_info": {
   "codemirror_mode": {
    "name": "ipython",
    "version": 3
   },
   "file_extension": ".py",
   "mimetype": "text/x-python",
   "name": "python",
   "nbconvert_exporter": "python",
   "pygments_lexer": "ipython3",
   "version": "3.8.12"
  }
 },
 "nbformat": 4,
 "nbformat_minor": 5
}
