{
 "cells": [
  {
   "cell_type": "code",
   "execution_count": 1,
   "id": "a94b2dd5",
   "metadata": {},
   "outputs": [],
   "source": [
    "%run script/regressor.py"
   ]
  },
  {
   "cell_type": "code",
   "execution_count": 2,
   "id": "4e5225b5",
   "metadata": {},
   "outputs": [],
   "source": [
    "import yfinance as yf\n",
    "\n",
    "msft = yf.Ticker(\"MSFT\")\n",
    "hist = msft.history(period=\"max\")\n",
    "test1 = list(hist['High'])"
   ]
  },
  {
   "cell_type": "code",
   "execution_count": null,
   "id": "056ccfb8",
   "metadata": {},
   "outputs": [],
   "source": [
    "import yfinance as yf\n",
    "data = yf.download(\"SPY AAPL\", start=\"2017-01-01\", end=\"2018-01-30\")"
   ]
  },
  {
   "cell_type": "code",
   "execution_count": null,
   "id": "de039313",
   "metadata": {},
   "outputs": [],
   "source": [
    "data = list(data['Adj Close']['AAPL'])"
   ]
  },
  {
   "cell_type": "code",
   "execution_count": 3,
   "id": "54537f9d",
   "metadata": {},
   "outputs": [],
   "source": [
    "row = [0.21947749,  0.32948997,  0.81560036,  0.440956  , -0.0606303]"
   ]
  },
  {
   "cell_type": "code",
   "execution_count": 4,
   "id": "94f8a082",
   "metadata": {},
   "outputs": [],
   "source": [
    "test = Regressor(test1, 5, 2, False)"
   ]
  },
  {
   "cell_type": "code",
   "execution_count": null,
   "id": "2be6a223",
   "metadata": {},
   "outputs": [],
   "source": [
    "test.performance('MSE')"
   ]
  },
  {
   "cell_type": "code",
   "execution_count": null,
   "id": "6f92e3df",
   "metadata": {},
   "outputs": [],
   "source": [
    "test1 = Regressor(data, 5, 2, True)"
   ]
  },
  {
   "cell_type": "code",
   "execution_count": null,
   "id": "b0389ad8",
   "metadata": {},
   "outputs": [],
   "source": [
    "test1.performance('MSE')"
   ]
  },
  {
   "cell_type": "code",
   "execution_count": null,
   "id": "044d140a",
   "metadata": {},
   "outputs": [],
   "source": [
    "all_0 = test.forecast_all(row)"
   ]
  },
  {
   "cell_type": "code",
   "execution_count": null,
   "id": "77bade53",
   "metadata": {},
   "outputs": [],
   "source": [
    "all_0"
   ]
  },
  {
   "cell_type": "code",
   "execution_count": null,
   "id": "e8b77350",
   "metadata": {},
   "outputs": [],
   "source": [
    "all_1 = test1.forecast_all(row)"
   ]
  },
  {
   "cell_type": "code",
   "execution_count": null,
   "id": "6b3659cf",
   "metadata": {},
   "outputs": [],
   "source": [
    "all_1"
   ]
  },
  {
   "cell_type": "code",
   "execution_count": null,
   "id": "017f13e2",
   "metadata": {},
   "outputs": [],
   "source": [
    "test.forecast(row, 'K-Neighbors Regressor')"
   ]
  },
  {
   "cell_type": "code",
   "execution_count": null,
   "id": "8beec0e9",
   "metadata": {},
   "outputs": [],
   "source": [
    "test.forecast(row, 'DecisionTree Regressor')"
   ]
  },
  {
   "cell_type": "code",
   "execution_count": null,
   "id": "161b1eaa",
   "metadata": {},
   "outputs": [],
   "source": [
    "test.forecast(row, 'Random Forest Regressor')"
   ]
  },
  {
   "cell_type": "code",
   "execution_count": null,
   "id": "853a5ac8",
   "metadata": {},
   "outputs": [],
   "source": [
    "test.forecast(row, 'LinearSVR Regressor')"
   ]
  },
  {
   "cell_type": "code",
   "execution_count": null,
   "id": "12bd36ec",
   "metadata": {},
   "outputs": [],
   "source": [
    "test.forecast(row, 'Bayesian Ridge Regressor')"
   ]
  }
 ],
 "metadata": {
  "kernelspec": {
   "display_name": "Python 3 (ipykernel)",
   "language": "python",
   "name": "python3"
  },
  "language_info": {
   "codemirror_mode": {
    "name": "ipython",
    "version": 3
   },
   "file_extension": ".py",
   "mimetype": "text/x-python",
   "name": "python",
   "nbconvert_exporter": "python",
   "pygments_lexer": "ipython3",
   "version": "3.8.12"
  }
 },
 "nbformat": 4,
 "nbformat_minor": 5
}
