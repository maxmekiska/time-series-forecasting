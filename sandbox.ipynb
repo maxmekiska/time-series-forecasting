{
 "cells": [
  {
   "cell_type": "code",
   "execution_count": 13,
   "id": "f2f0718b",
   "metadata": {},
   "outputs": [],
   "source": [
    "%run script/regressor.py"
   ]
  },
  {
   "cell_type": "code",
   "execution_count": 14,
   "id": "5cb2043a",
   "metadata": {},
   "outputs": [],
   "source": [
    "import yfinance as yf\n",
    "\n",
    "msft = yf.Ticker(\"MSFT\")\n",
    "hist = msft.history(period=\"max\")\n",
    "test1 = list(hist['High'])"
   ]
  },
  {
   "cell_type": "code",
   "execution_count": 15,
   "id": "8a7697a7",
   "metadata": {},
   "outputs": [],
   "source": [
    "row = [0.21947749,  0.32948997,  0.81560036,  0.440956  , -0.0606303]"
   ]
  },
  {
   "cell_type": "code",
   "execution_count": 16,
   "id": "2564ec6a",
   "metadata": {},
   "outputs": [],
   "source": [
    "test = Regressor(test1, 5, 2, False)"
   ]
  },
  {
   "cell_type": "code",
   "execution_count": 17,
   "id": "d8a06e0b",
   "metadata": {},
   "outputs": [],
   "source": [
    "test1 = Regressor(test1, 5, 2, True)"
   ]
  },
  {
   "cell_type": "code",
   "execution_count": 18,
   "id": "c4ae788c",
   "metadata": {},
   "outputs": [],
   "source": [
    "first, second, third = test.forecast(row)"
   ]
  },
  {
   "cell_type": "code",
   "execution_count": 19,
   "id": "47ae7a3b",
   "metadata": {},
   "outputs": [
    {
     "data": {
      "text/plain": [
       "array([[0.30020666, 0.30668529]])"
      ]
     },
     "execution_count": 19,
     "metadata": {},
     "output_type": "execute_result"
    }
   ],
   "source": [
    "first"
   ]
  },
  {
   "cell_type": "code",
   "execution_count": 20,
   "id": "5df74c44",
   "metadata": {},
   "outputs": [
    {
     "data": {
      "text/plain": [
       "array([[0.0960795 , 0.09443258]])"
      ]
     },
     "execution_count": 20,
     "metadata": {},
     "output_type": "execute_result"
    }
   ],
   "source": [
    "second"
   ]
  },
  {
   "cell_type": "code",
   "execution_count": 21,
   "id": "865a1e70",
   "metadata": {},
   "outputs": [
    {
     "data": {
      "text/plain": [
       "array([[0.17896287, 0.18457118]])"
      ]
     },
     "execution_count": 21,
     "metadata": {},
     "output_type": "execute_result"
    }
   ],
   "source": [
    "third"
   ]
  },
  {
   "cell_type": "code",
   "execution_count": 22,
   "id": "5f87d199",
   "metadata": {},
   "outputs": [],
   "source": [
    "fourth, fifth, sixth = test1.forecast(row)"
   ]
  },
  {
   "cell_type": "code",
   "execution_count": 23,
   "id": "74cf9256",
   "metadata": {},
   "outputs": [
    {
     "data": {
      "text/plain": [
       "array([[0.30020666, 0.30668529]])"
      ]
     },
     "execution_count": 23,
     "metadata": {},
     "output_type": "execute_result"
    }
   ],
   "source": [
    "fourth"
   ]
  },
  {
   "cell_type": "code",
   "execution_count": 24,
   "id": "88d0b198",
   "metadata": {},
   "outputs": [
    {
     "data": {
      "text/plain": [
       "array([[0.09498152, 0.0960795 ]])"
      ]
     },
     "execution_count": 24,
     "metadata": {},
     "output_type": "execute_result"
    }
   ],
   "source": [
    "fifth"
   ]
  },
  {
   "cell_type": "code",
   "execution_count": 25,
   "id": "367b2092",
   "metadata": {},
   "outputs": [
    {
     "data": {
      "text/plain": [
       "array([[0.1512124 , 0.15574192]])"
      ]
     },
     "execution_count": 25,
     "metadata": {},
     "output_type": "execute_result"
    }
   ],
   "source": [
    "sixth"
   ]
  }
 ],
 "metadata": {
  "kernelspec": {
   "display_name": "Python 3 (ipykernel)",
   "language": "python",
   "name": "python3"
  },
  "language_info": {
   "codemirror_mode": {
    "name": "ipython",
    "version": 3
   },
   "file_extension": ".py",
   "mimetype": "text/x-python",
   "name": "python",
   "nbconvert_exporter": "python",
   "pygments_lexer": "ipython3",
   "version": "3.8.12"
  }
 },
 "nbformat": 4,
 "nbformat_minor": 5
}
