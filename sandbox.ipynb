{
 "cells": [
  {
   "cell_type": "code",
   "execution_count": 68,
   "id": "f2f0718b",
   "metadata": {},
   "outputs": [],
   "source": [
    "%run script/regressor.py"
   ]
  },
  {
   "cell_type": "code",
   "execution_count": 69,
   "id": "5cb2043a",
   "metadata": {},
   "outputs": [],
   "source": [
    "import yfinance as yf\n",
    "\n",
    "msft = yf.Ticker(\"MSFT\")\n",
    "hist = msft.history(period=\"max\")\n",
    "test1 = list(hist['High'])"
   ]
  },
  {
   "cell_type": "code",
   "execution_count": 70,
   "id": "8a7697a7",
   "metadata": {},
   "outputs": [],
   "source": [
    "row = [0.21947749,  0.32948997,  0.81560036,  0.440956  , -0.0606303]"
   ]
  },
  {
   "cell_type": "code",
   "execution_count": 71,
   "id": "2564ec6a",
   "metadata": {},
   "outputs": [],
   "source": [
    "test = Regressor(test1, 5, 2, False)"
   ]
  },
  {
   "cell_type": "code",
   "execution_count": 73,
   "id": "5dbc8c6b",
   "metadata": {},
   "outputs": [
    {
     "ename": "AttributeError",
     "evalue": "'list' object has no attribute 'plot'",
     "output_type": "error",
     "traceback": [
      "\u001b[1;31m---------------------------------------------------------------------------\u001b[0m",
      "\u001b[1;31mAttributeError\u001b[0m                            Traceback (most recent call last)",
      "\u001b[1;32m~\\AppData\\Local\\Temp/ipykernel_3708/2436360188.py\u001b[0m in \u001b[0;36m<module>\u001b[1;34m\u001b[0m\n\u001b[1;32m----> 1\u001b[1;33m \u001b[0mtest\u001b[0m\u001b[1;33m.\u001b[0m\u001b[0mperformance\u001b[0m\u001b[1;33m(\u001b[0m\u001b[1;33m)\u001b[0m\u001b[1;33m.\u001b[0m\u001b[0mplot\u001b[0m\u001b[1;33m(\u001b[0m\u001b[1;33m)\u001b[0m\u001b[1;33m\u001b[0m\u001b[1;33m\u001b[0m\u001b[0m\n\u001b[0m",
      "\u001b[1;31mAttributeError\u001b[0m: 'list' object has no attribute 'plot'"
     ]
    }
   ],
   "source": [
    "test.performance()"
   ]
  },
  {
   "cell_type": "code",
   "execution_count": 5,
   "id": "d8a06e0b",
   "metadata": {},
   "outputs": [],
   "source": [
    "test1 = Regressor(test1, 5, 2, True)"
   ]
  },
  {
   "cell_type": "code",
   "execution_count": null,
   "id": "c4ae788c",
   "metadata": {},
   "outputs": [],
   "source": [
    "first, second, third = test.forecast(row)"
   ]
  },
  {
   "cell_type": "code",
   "execution_count": null,
   "id": "47ae7a3b",
   "metadata": {},
   "outputs": [],
   "source": [
    "first"
   ]
  },
  {
   "cell_type": "code",
   "execution_count": null,
   "id": "5df74c44",
   "metadata": {},
   "outputs": [],
   "source": [
    "second"
   ]
  },
  {
   "cell_type": "code",
   "execution_count": null,
   "id": "865a1e70",
   "metadata": {},
   "outputs": [],
   "source": [
    "third"
   ]
  },
  {
   "cell_type": "code",
   "execution_count": null,
   "id": "5f87d199",
   "metadata": {},
   "outputs": [],
   "source": [
    "fourth, fifth, sixth = test1.forecast(row)"
   ]
  },
  {
   "cell_type": "code",
   "execution_count": null,
   "id": "74cf9256",
   "metadata": {},
   "outputs": [],
   "source": [
    "fourth"
   ]
  },
  {
   "cell_type": "code",
   "execution_count": null,
   "id": "88d0b198",
   "metadata": {},
   "outputs": [],
   "source": [
    "fifth"
   ]
  },
  {
   "cell_type": "code",
   "execution_count": null,
   "id": "367b2092",
   "metadata": {},
   "outputs": [],
   "source": [
    "sixth"
   ]
  }
 ],
 "metadata": {
  "kernelspec": {
   "display_name": "Python 3 (ipykernel)",
   "language": "python",
   "name": "python3"
  },
  "language_info": {
   "codemirror_mode": {
    "name": "ipython",
    "version": 3
   },
   "file_extension": ".py",
   "mimetype": "text/x-python",
   "name": "python",
   "nbconvert_exporter": "python",
   "pygments_lexer": "ipython3",
   "version": "3.8.12"
  }
 },
 "nbformat": 4,
 "nbformat_minor": 5
}
