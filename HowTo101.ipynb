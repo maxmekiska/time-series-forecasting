{
 "cells": [
  {
   "cell_type": "markdown",
   "id": "ca1e498d",
   "metadata": {},
   "source": [
    "## How does it work?"
   ]
  },
  {
   "cell_type": "markdown",
   "id": "6c6ecf20",
   "metadata": {},
   "source": [
    "#### Load the source code into a jupyter notebook via:"
   ]
  },
  {
   "cell_type": "code",
   "execution_count": null,
   "id": "5d997d85",
   "metadata": {},
   "outputs": [],
   "source": [
    "%run src/regressor.py"
   ]
  },
  {
   "cell_type": "markdown",
   "id": "3233faf9",
   "metadata": {},
   "source": [
    "#### Import your univariate time-series in a list format"
   ]
  },
  {
   "cell_type": "code",
   "execution_count": null,
   "id": "e825c6dc",
   "metadata": {},
   "outputs": [],
   "source": [
    "data_ = list(range(0, 100, 3))"
   ]
  },
  {
   "cell_type": "code",
   "execution_count": null,
   "id": "5896b228",
   "metadata": {},
   "outputs": [],
   "source": [
    "input_ = [23, 26, 29, 32, 35]"
   ]
  },
  {
   "cell_type": "markdown",
   "id": "348e48a3",
   "metadata": {},
   "source": [
    "#### Create an Regressor object by providing the trainings data, the time steps to look back to make a prediction, the steps to predict into the future and if the data should be scaled"
   ]
  },
  {
   "cell_type": "code",
   "execution_count": null,
   "id": "1818d77c",
   "metadata": {},
   "outputs": [],
   "source": [
    "regress = Regressor(data_, look_back = 5, look_future = 2, scale = True)"
   ]
  },
  {
   "cell_type": "markdown",
   "id": "069d0ff7",
   "metadata": {},
   "source": [
    "#### Optimize all regressor models via the *optimizer()* method. The *optimizer()* method allows the user to define what type of grid-search should be performed during the hyperparameter optimization:"
   ]
  },
  {
   "cell_type": "code",
   "execution_count": null,
   "id": "94d913fc",
   "metadata": {
    "scrolled": true
   },
   "outputs": [],
   "source": [
    "regress.optimizer(grid_type = 'random')"
   ]
  },
  {
   "cell_type": "markdown",
   "id": "b7597c23",
   "metadata": {},
   "source": [
    "#### To see which model predicts best the given time-series, use the method *performance()*. This method allows to choose between the MAE and MSE to evaluate the overall model performance. The method furthermore allows to specify if the optimized models or non-optimized models shall be evaluated:"
   ]
  },
  {
   "cell_type": "code",
   "execution_count": null,
   "id": "357c78d9",
   "metadata": {
    "scrolled": true
   },
   "outputs": [],
   "source": [
    "regress.performance(metric = 'MSE', optimized = True)"
   ]
  },
  {
   "cell_type": "code",
   "execution_count": null,
   "id": "430e7f00",
   "metadata": {},
   "outputs": [],
   "source": [
    "regress.performance(metric = 'MSE', optimized = False)"
   ]
  },
  {
   "cell_type": "markdown",
   "id": "aec15e73",
   "metadata": {},
   "source": [
    "#### The *forecast_all()* method allows to return the forecast of all models given the provided input data which shall be used as the basis for the forecast:"
   ]
  },
  {
   "cell_type": "code",
   "execution_count": null,
   "id": "478a0aa4",
   "metadata": {},
   "outputs": [],
   "source": [
    "forecast_all_results_optimized = regress.forecast_all(data = input_, optimized = True)"
   ]
  },
  {
   "cell_type": "code",
   "execution_count": null,
   "id": "2ab78ba8",
   "metadata": {},
   "outputs": [],
   "source": [
    "forecast_all_results_optimized"
   ]
  },
  {
   "cell_type": "code",
   "execution_count": null,
   "id": "2804c683",
   "metadata": {},
   "outputs": [],
   "source": [
    "forecast_all_non_optimized = regress.forecast_all(data = input_, optimized = False)"
   ]
  },
  {
   "cell_type": "code",
   "execution_count": null,
   "id": "ac29119c",
   "metadata": {},
   "outputs": [],
   "source": [
    "forecast_all_non_optimized"
   ]
  },
  {
   "cell_type": "markdown",
   "id": "526c914d",
   "metadata": {},
   "source": [
    "#### It is also possible to optimize single models and perform predictions by using the methods *optimize_ind()* and *forecast()*:"
   ]
  },
  {
   "cell_type": "code",
   "execution_count": null,
   "id": "a0c85107",
   "metadata": {},
   "outputs": [],
   "source": [
    "regress.optimize_ind(model = 'Linear Gamma Regressor', grid_type = 'random')\n",
    "regress.optimize_ind(model = 'Bayesian Ridge Regressor', grid_type = 'random')\n",
    "regress.optimize_ind(model = 'Linear Tweedie Regressor', grid_type = 'random')"
   ]
  },
  {
   "cell_type": "code",
   "execution_count": null,
   "id": "1e61ab36",
   "metadata": {},
   "outputs": [],
   "source": [
    "regress.performance(metric = 'MSE', optimized = True)"
   ]
  },
  {
   "cell_type": "code",
   "execution_count": null,
   "id": "396599e2",
   "metadata": {},
   "outputs": [],
   "source": [
    "regress.performance(metric = 'MSE', optimized = False)"
   ]
  },
  {
   "cell_type": "code",
   "execution_count": null,
   "id": "9477a02b",
   "metadata": {},
   "outputs": [],
   "source": [
    "regress.forecast(data = input_, model = 'Linear Gamma Regressor', optimized = True)"
   ]
  },
  {
   "cell_type": "code",
   "execution_count": null,
   "id": "090b1406",
   "metadata": {},
   "outputs": [],
   "source": [
    "regress.forecast(data = input_, model = 'Bayesian Ridge Regressor', optimized = True)"
   ]
  },
  {
   "cell_type": "code",
   "execution_count": null,
   "id": "b3f938d8",
   "metadata": {
    "scrolled": true
   },
   "outputs": [],
   "source": [
    "regress.forecast(data = input_, model = 'Linear Tweedie Regressor', optimized = True)"
   ]
  }
 ],
 "metadata": {
  "kernelspec": {
   "display_name": "Python 3 (ipykernel)",
   "language": "python",
   "name": "python3"
  },
  "language_info": {
   "codemirror_mode": {
    "name": "ipython",
    "version": 3
   },
   "file_extension": ".py",
   "mimetype": "text/x-python",
   "name": "python",
   "nbconvert_exporter": "python",
   "pygments_lexer": "ipython3",
   "version": "3.8.12"
  }
 },
 "nbformat": 4,
 "nbformat_minor": 5
}
