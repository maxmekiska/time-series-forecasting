{
 "cells": [
  {
   "cell_type": "markdown",
   "id": "125d0520",
   "metadata": {},
   "source": [
    "## How does it work?"
   ]
  },
  {
   "cell_type": "markdown",
   "id": "afacdb57",
   "metadata": {},
   "source": [
    "#### Load the source code into a jupyter notebook via:"
   ]
  },
  {
   "cell_type": "code",
   "execution_count": null,
   "id": "81396d6c",
   "metadata": {},
   "outputs": [],
   "source": [
    "%run src/regressor.py"
   ]
  },
  {
   "cell_type": "markdown",
   "id": "bee8faa9",
   "metadata": {},
   "source": [
    "#### Import your univariate time-series in a list format"
   ]
  },
  {
   "cell_type": "code",
   "execution_count": null,
   "id": "c2c9feb8",
   "metadata": {},
   "outputs": [],
   "source": [
    "data_ = list(range(0, 100, 3))"
   ]
  },
  {
   "cell_type": "code",
   "execution_count": null,
   "id": "458fb714",
   "metadata": {},
   "outputs": [],
   "source": [
    "input_ = [23, 26, 29, 32, 35]"
   ]
  },
  {
   "cell_type": "markdown",
   "id": "0e4492cd",
   "metadata": {},
   "source": [
    "#### Create an Regressor object by providing the trainings data, the time steps to look back to make a prediction, the steps to predict into the future and if the data training data should be scaled or not."
   ]
  },
  {
   "cell_type": "code",
   "execution_count": null,
   "id": "c894bba9",
   "metadata": {},
   "outputs": [],
   "source": [
    "regress = Regressor(data_, look_back = 5, look_future = 2, scale = True)"
   ]
  },
  {
   "cell_type": "markdown",
   "id": "72cf7ba1",
   "metadata": {},
   "source": [
    "#### Optimize all regressor models via the *optimizer()* method. The *optimizer()* method allows the user to define what type of grid search should be performed during the hyperparameter optimization:"
   ]
  },
  {
   "cell_type": "code",
   "execution_count": null,
   "id": "0e29d446",
   "metadata": {},
   "outputs": [],
   "source": [
    "regress.optimizer(grid_type = 'random')"
   ]
  },
  {
   "cell_type": "markdown",
   "id": "6b196079",
   "metadata": {},
   "source": [
    "#### To see which model predicts best the given time-series, use the method *performance()*. This method allows to choose between the MAE and MSE to evaluate the overall model performance. The method furthermore allows to specify if the optimized models or non-optimized models shall be evaluated:"
   ]
  },
  {
   "cell_type": "code",
   "execution_count": null,
   "id": "21c0feb0",
   "metadata": {},
   "outputs": [],
   "source": [
    "regress.performance(metric = 'MSE', optimized = True)"
   ]
  },
  {
   "cell_type": "code",
   "execution_count": null,
   "id": "cef8848f",
   "metadata": {},
   "outputs": [],
   "source": [
    "regress.performance(metric = 'MSE', optimized = False)"
   ]
  },
  {
   "cell_type": "markdown",
   "id": "ae1a87de",
   "metadata": {},
   "source": [
    "#### The *forecast_all()* method allows to return the forecast of all models given the provided input data which shall be used as the basis for the forecast:"
   ]
  },
  {
   "cell_type": "code",
   "execution_count": null,
   "id": "8b254779",
   "metadata": {},
   "outputs": [],
   "source": [
    "forecast_all_results_optimized = regress.forecast_all(data = input_, optimized = True)"
   ]
  },
  {
   "cell_type": "code",
   "execution_count": null,
   "id": "75801d56",
   "metadata": {},
   "outputs": [],
   "source": [
    "forecast_all_results_optimized"
   ]
  },
  {
   "cell_type": "code",
   "execution_count": null,
   "id": "b9b3892b",
   "metadata": {},
   "outputs": [],
   "source": [
    "forecast_all_non_optimized = regress.forecast_all(data = input_, optimized = False)"
   ]
  },
  {
   "cell_type": "code",
   "execution_count": null,
   "id": "fc9e994e",
   "metadata": {},
   "outputs": [],
   "source": [
    "forecast_all_non_optimized"
   ]
  },
  {
   "cell_type": "markdown",
   "id": "a298f577",
   "metadata": {},
   "source": [
    "#### It is also possible to optimize single models and perform predictions by using the methods *optimize_ind()* and *forecast()*:"
   ]
  },
  {
   "cell_type": "code",
   "execution_count": null,
   "id": "89f3db1b",
   "metadata": {},
   "outputs": [],
   "source": [
    "regress.optimize_ind(model = 'Linear Gamma Regressor', grid_type = 'random')\n",
    "regress.optimize_ind(model = 'Bayesian Ridge Regressor', grid_type = 'random')\n",
    "regress.optimize_ind(model = 'Linear Tweedie Regressor', grid_type = 'random')"
   ]
  },
  {
   "cell_type": "code",
   "execution_count": null,
   "id": "47adb835",
   "metadata": {},
   "outputs": [],
   "source": [
    "regress.performance(metric = 'MSE', optimized = True)"
   ]
  },
  {
   "cell_type": "code",
   "execution_count": null,
   "id": "9d34c21c",
   "metadata": {},
   "outputs": [],
   "source": [
    "regress.performance(metric = 'MSE', optimized = False)"
   ]
  },
  {
   "cell_type": "code",
   "execution_count": null,
   "id": "d54ee254",
   "metadata": {},
   "outputs": [],
   "source": [
    "regress.forecast(data = input_, model = 'Linear Gamma Regressor', optimized = True)"
   ]
  },
  {
   "cell_type": "code",
   "execution_count": null,
   "id": "9832b20c",
   "metadata": {},
   "outputs": [],
   "source": [
    "regress.forecast(data = input_, model = 'Bayesian Ridge Regressor', optimized = True)"
   ]
  },
  {
   "cell_type": "code",
   "execution_count": null,
   "id": "8e65c34b",
   "metadata": {
    "scrolled": true
   },
   "outputs": [],
   "source": [
    "regress.forecast(data = input_, model = 'Linear Tweedie Regressor', optimized = True)"
   ]
  }
 ],
 "metadata": {
  "kernelspec": {
   "display_name": "Python 3 (ipykernel)",
   "language": "python",
   "name": "python3"
  },
  "language_info": {
   "codemirror_mode": {
    "name": "ipython",
    "version": 3
   },
   "file_extension": ".py",
   "mimetype": "text/x-python",
   "name": "python",
   "nbconvert_exporter": "python",
   "pygments_lexer": "ipython3",
   "version": "3.8.12"
  }
 },
 "nbformat": 4,
 "nbformat_minor": 5
}
